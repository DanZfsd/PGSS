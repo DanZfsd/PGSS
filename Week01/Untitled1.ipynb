{
  "nbformat": 4,
  "nbformat_minor": 0,
  "metadata": {
    "colab": {
      "name": "Untitled1.ipynb",
      "provenance": [],
      "collapsed_sections": []
    },
    "kernelspec": {
      "name": "python3",
      "display_name": "Python 3"
    },
    "language_info": {
      "name": "python"
    },
    "accelerator": "GPU",
    "gpuClass": "standard"
  },
  "cells": [
    {
      "cell_type": "markdown",
      "source": [
        "#THIS IS MY FIRST NOTEBOOK.WE WILL LEARN TO WRITE SOME PYTHON AND R IN A NOTEBOOK STYLE SETUP, executing the same on a remote virtual machine"
      ],
      "metadata": {
        "id": "GO3_rRRIvY1b"
      }
    },
    {
      "cell_type": "code",
      "source": [
        "from google.colab import drive \n",
        "drive.mount('/content/gdrive')\n",
        "\n"
      ],
      "metadata": {
        "colab": {
          "base_uri": "https://localhost:8080/",
          "height": 0
        },
        "id": "QzHjRQ8Rv7dZ",
        "outputId": "10bb41c7-833f-4571-c218-9b840a1b80e0"
      },
      "execution_count": 2,
      "outputs": [
        {
          "output_type": "stream",
          "name": "stdout",
          "text": [
            "Mounted at /content/gdrive\n"
          ]
        }
      ]
    },
    {
      "cell_type": "code",
      "source": [
        "#read csv file iris.csv\n",
        "import pandas as pd\n"
      ],
      "metadata": {
        "id": "HBZ4nlO2wPY6"
      },
      "execution_count": 7,
      "outputs": []
    },
    {
      "cell_type": "code",
      "source": [
        "df=pd.read_csv(\"/content/gdrive/MyDrive/PGSS2022_Student/Week 1/iris.csv\",header=None)\n",
        "df2=pd.read_csv(\"https://raw.githubusercontent.com/DanZfsd/PGSS/main/Week01/iris.csv\",header=None)\n",
        "df.columns=\"Sepal.Length\",\"Sepal.Width\",\"Petal.Length\",\"Petal.Width\",\"Class\"\n",
        "df2.columns=\"Sepal.Length\",\"Sepal.Width\",\"Petal.Length\",\"Petal.Width\",\"Class\""
      ],
      "metadata": {
        "id": "93-lUJuswV5S"
      },
      "execution_count": 18,
      "outputs": []
    },
    {
      "cell_type": "code",
      "source": [
        "df"
      ],
      "metadata": {
        "colab": {
          "base_uri": "https://localhost:8080/",
          "height": 424
        },
        "id": "CReafqu5wtQR",
        "outputId": "82af4803-a1fa-4f2c-e04a-4b07f77c60d2"
      },
      "execution_count": 12,
      "outputs": [
        {
          "output_type": "execute_result",
          "data": {
            "text/plain": [
              "     Sepal.Length  Sepal.Width  Petal.Length  Petal.Width           Class\n",
              "0             5.1          3.5           1.4          0.2     Iris-setosa\n",
              "1             4.9          3.0           1.4          0.2     Iris-setosa\n",
              "2             4.7          3.2           1.3          0.2     Iris-setosa\n",
              "3             4.6          3.1           1.5          0.2     Iris-setosa\n",
              "4             5.0          3.6           1.4          0.2     Iris-setosa\n",
              "..            ...          ...           ...          ...             ...\n",
              "145           6.7          3.0           5.2          2.3  Iris-virginica\n",
              "146           6.3          2.5           5.0          1.9  Iris-virginica\n",
              "147           6.5          3.0           5.2          2.0  Iris-virginica\n",
              "148           6.2          3.4           5.4          2.3  Iris-virginica\n",
              "149           5.9          3.0           5.1          1.8  Iris-virginica\n",
              "\n",
              "[150 rows x 5 columns]"
            ],
            "text/html": [
              "\n",
              "  <div id=\"df-4591b3cf-e38a-4dee-a6d6-a7afd0ff77b5\">\n",
              "    <div class=\"colab-df-container\">\n",
              "      <div>\n",
              "<style scoped>\n",
              "    .dataframe tbody tr th:only-of-type {\n",
              "        vertical-align: middle;\n",
              "    }\n",
              "\n",
              "    .dataframe tbody tr th {\n",
              "        vertical-align: top;\n",
              "    }\n",
              "\n",
              "    .dataframe thead th {\n",
              "        text-align: right;\n",
              "    }\n",
              "</style>\n",
              "<table border=\"1\" class=\"dataframe\">\n",
              "  <thead>\n",
              "    <tr style=\"text-align: right;\">\n",
              "      <th></th>\n",
              "      <th>Sepal.Length</th>\n",
              "      <th>Sepal.Width</th>\n",
              "      <th>Petal.Length</th>\n",
              "      <th>Petal.Width</th>\n",
              "      <th>Class</th>\n",
              "    </tr>\n",
              "  </thead>\n",
              "  <tbody>\n",
              "    <tr>\n",
              "      <th>0</th>\n",
              "      <td>5.1</td>\n",
              "      <td>3.5</td>\n",
              "      <td>1.4</td>\n",
              "      <td>0.2</td>\n",
              "      <td>Iris-setosa</td>\n",
              "    </tr>\n",
              "    <tr>\n",
              "      <th>1</th>\n",
              "      <td>4.9</td>\n",
              "      <td>3.0</td>\n",
              "      <td>1.4</td>\n",
              "      <td>0.2</td>\n",
              "      <td>Iris-setosa</td>\n",
              "    </tr>\n",
              "    <tr>\n",
              "      <th>2</th>\n",
              "      <td>4.7</td>\n",
              "      <td>3.2</td>\n",
              "      <td>1.3</td>\n",
              "      <td>0.2</td>\n",
              "      <td>Iris-setosa</td>\n",
              "    </tr>\n",
              "    <tr>\n",
              "      <th>3</th>\n",
              "      <td>4.6</td>\n",
              "      <td>3.1</td>\n",
              "      <td>1.5</td>\n",
              "      <td>0.2</td>\n",
              "      <td>Iris-setosa</td>\n",
              "    </tr>\n",
              "    <tr>\n",
              "      <th>4</th>\n",
              "      <td>5.0</td>\n",
              "      <td>3.6</td>\n",
              "      <td>1.4</td>\n",
              "      <td>0.2</td>\n",
              "      <td>Iris-setosa</td>\n",
              "    </tr>\n",
              "    <tr>\n",
              "      <th>...</th>\n",
              "      <td>...</td>\n",
              "      <td>...</td>\n",
              "      <td>...</td>\n",
              "      <td>...</td>\n",
              "      <td>...</td>\n",
              "    </tr>\n",
              "    <tr>\n",
              "      <th>145</th>\n",
              "      <td>6.7</td>\n",
              "      <td>3.0</td>\n",
              "      <td>5.2</td>\n",
              "      <td>2.3</td>\n",
              "      <td>Iris-virginica</td>\n",
              "    </tr>\n",
              "    <tr>\n",
              "      <th>146</th>\n",
              "      <td>6.3</td>\n",
              "      <td>2.5</td>\n",
              "      <td>5.0</td>\n",
              "      <td>1.9</td>\n",
              "      <td>Iris-virginica</td>\n",
              "    </tr>\n",
              "    <tr>\n",
              "      <th>147</th>\n",
              "      <td>6.5</td>\n",
              "      <td>3.0</td>\n",
              "      <td>5.2</td>\n",
              "      <td>2.0</td>\n",
              "      <td>Iris-virginica</td>\n",
              "    </tr>\n",
              "    <tr>\n",
              "      <th>148</th>\n",
              "      <td>6.2</td>\n",
              "      <td>3.4</td>\n",
              "      <td>5.4</td>\n",
              "      <td>2.3</td>\n",
              "      <td>Iris-virginica</td>\n",
              "    </tr>\n",
              "    <tr>\n",
              "      <th>149</th>\n",
              "      <td>5.9</td>\n",
              "      <td>3.0</td>\n",
              "      <td>5.1</td>\n",
              "      <td>1.8</td>\n",
              "      <td>Iris-virginica</td>\n",
              "    </tr>\n",
              "  </tbody>\n",
              "</table>\n",
              "<p>150 rows × 5 columns</p>\n",
              "</div>\n",
              "      <button class=\"colab-df-convert\" onclick=\"convertToInteractive('df-4591b3cf-e38a-4dee-a6d6-a7afd0ff77b5')\"\n",
              "              title=\"Convert this dataframe to an interactive table.\"\n",
              "              style=\"display:none;\">\n",
              "        \n",
              "  <svg xmlns=\"http://www.w3.org/2000/svg\" height=\"24px\"viewBox=\"0 0 24 24\"\n",
              "       width=\"24px\">\n",
              "    <path d=\"M0 0h24v24H0V0z\" fill=\"none\"/>\n",
              "    <path d=\"M18.56 5.44l.94 2.06.94-2.06 2.06-.94-2.06-.94-.94-2.06-.94 2.06-2.06.94zm-11 1L8.5 8.5l.94-2.06 2.06-.94-2.06-.94L8.5 2.5l-.94 2.06-2.06.94zm10 10l.94 2.06.94-2.06 2.06-.94-2.06-.94-.94-2.06-.94 2.06-2.06.94z\"/><path d=\"M17.41 7.96l-1.37-1.37c-.4-.4-.92-.59-1.43-.59-.52 0-1.04.2-1.43.59L10.3 9.45l-7.72 7.72c-.78.78-.78 2.05 0 2.83L4 21.41c.39.39.9.59 1.41.59.51 0 1.02-.2 1.41-.59l7.78-7.78 2.81-2.81c.8-.78.8-2.07 0-2.86zM5.41 20L4 18.59l7.72-7.72 1.47 1.35L5.41 20z\"/>\n",
              "  </svg>\n",
              "      </button>\n",
              "      \n",
              "  <style>\n",
              "    .colab-df-container {\n",
              "      display:flex;\n",
              "      flex-wrap:wrap;\n",
              "      gap: 12px;\n",
              "    }\n",
              "\n",
              "    .colab-df-convert {\n",
              "      background-color: #E8F0FE;\n",
              "      border: none;\n",
              "      border-radius: 50%;\n",
              "      cursor: pointer;\n",
              "      display: none;\n",
              "      fill: #1967D2;\n",
              "      height: 32px;\n",
              "      padding: 0 0 0 0;\n",
              "      width: 32px;\n",
              "    }\n",
              "\n",
              "    .colab-df-convert:hover {\n",
              "      background-color: #E2EBFA;\n",
              "      box-shadow: 0px 1px 2px rgba(60, 64, 67, 0.3), 0px 1px 3px 1px rgba(60, 64, 67, 0.15);\n",
              "      fill: #174EA6;\n",
              "    }\n",
              "\n",
              "    [theme=dark] .colab-df-convert {\n",
              "      background-color: #3B4455;\n",
              "      fill: #D2E3FC;\n",
              "    }\n",
              "\n",
              "    [theme=dark] .colab-df-convert:hover {\n",
              "      background-color: #434B5C;\n",
              "      box-shadow: 0px 1px 3px 1px rgba(0, 0, 0, 0.15);\n",
              "      filter: drop-shadow(0px 1px 2px rgba(0, 0, 0, 0.3));\n",
              "      fill: #FFFFFF;\n",
              "    }\n",
              "  </style>\n",
              "\n",
              "      <script>\n",
              "        const buttonEl =\n",
              "          document.querySelector('#df-4591b3cf-e38a-4dee-a6d6-a7afd0ff77b5 button.colab-df-convert');\n",
              "        buttonEl.style.display =\n",
              "          google.colab.kernel.accessAllowed ? 'block' : 'none';\n",
              "\n",
              "        async function convertToInteractive(key) {\n",
              "          const element = document.querySelector('#df-4591b3cf-e38a-4dee-a6d6-a7afd0ff77b5');\n",
              "          const dataTable =\n",
              "            await google.colab.kernel.invokeFunction('convertToInteractive',\n",
              "                                                     [key], {});\n",
              "          if (!dataTable) return;\n",
              "\n",
              "          const docLinkHtml = 'Like what you see? Visit the ' +\n",
              "            '<a target=\"_blank\" href=https://colab.research.google.com/notebooks/data_table.ipynb>data table notebook</a>'\n",
              "            + ' to learn more about interactive tables.';\n",
              "          element.innerHTML = '';\n",
              "          dataTable['output_type'] = 'display_data';\n",
              "          await google.colab.output.renderOutput(dataTable, element);\n",
              "          const docLink = document.createElement('div');\n",
              "          docLink.innerHTML = docLinkHtml;\n",
              "          element.appendChild(docLink);\n",
              "        }\n",
              "      </script>\n",
              "    </div>\n",
              "  </div>\n",
              "  "
            ]
          },
          "metadata": {},
          "execution_count": 12
        }
      ]
    },
    {
      "cell_type": "code",
      "source": [
        "df.info()\n"
      ],
      "metadata": {
        "colab": {
          "base_uri": "https://localhost:8080/",
          "height": 0
        },
        "id": "0eH84xwpwv2h",
        "outputId": "99e79325-d35e-4b63-f29e-35893e91ad05"
      },
      "execution_count": 10,
      "outputs": [
        {
          "output_type": "stream",
          "name": "stdout",
          "text": [
            "<class 'pandas.core.frame.DataFrame'>\n",
            "RangeIndex: 150 entries, 0 to 149\n",
            "Data columns (total 5 columns):\n",
            " #   Column        Non-Null Count  Dtype  \n",
            "---  ------        --------------  -----  \n",
            " 0   Sepal.Length  150 non-null    float64\n",
            " 1   Sepal.Width   150 non-null    float64\n",
            " 2   Petal.Length  150 non-null    float64\n",
            " 3   Petal.Width   150 non-null    float64\n",
            " 4   Class         150 non-null    object \n",
            "dtypes: float64(4), object(1)\n",
            "memory usage: 6.0+ KB\n"
          ]
        }
      ]
    },
    {
      "cell_type": "code",
      "source": [
        "!pwd"
      ],
      "metadata": {
        "colab": {
          "base_uri": "https://localhost:8080/",
          "height": 0
        },
        "id": "caRgWJTcxhRP",
        "outputId": "3a50d2ce-1b5f-42e6-bf31-7b8085f4afff"
      },
      "execution_count": 12,
      "outputs": [
        {
          "output_type": "stream",
          "name": "stdout",
          "text": [
            "/content\n"
          ]
        }
      ]
    },
    {
      "cell_type": "code",
      "source": [
        "!pwd"
      ],
      "metadata": {
        "colab": {
          "base_uri": "https://localhost:8080/",
          "height": 0
        },
        "id": "43vmQTvQx7gA",
        "outputId": "7baf5a68-ee6a-45f0-9eae-050ea94dc832"
      },
      "execution_count": 14,
      "outputs": [
        {
          "output_type": "stream",
          "name": "stdout",
          "text": [
            "/content\n"
          ]
        }
      ]
    },
    {
      "cell_type": "code",
      "source": [
        "! nvidia-smi"
      ],
      "metadata": {
        "colab": {
          "base_uri": "https://localhost:8080/",
          "height": 0
        },
        "id": "hKAP2U8hzE59",
        "outputId": "da86e502-7f21-4fb2-c7fd-87fcee93956a"
      },
      "execution_count": 3,
      "outputs": [
        {
          "output_type": "stream",
          "name": "stdout",
          "text": [
            "Tue Jun 28 19:32:44 2022       \n",
            "+-----------------------------------------------------------------------------+\n",
            "| NVIDIA-SMI 460.32.03    Driver Version: 460.32.03    CUDA Version: 11.2     |\n",
            "|-------------------------------+----------------------+----------------------+\n",
            "| GPU  Name        Persistence-M| Bus-Id        Disp.A | Volatile Uncorr. ECC |\n",
            "| Fan  Temp  Perf  Pwr:Usage/Cap|         Memory-Usage | GPU-Util  Compute M. |\n",
            "|                               |                      |               MIG M. |\n",
            "|===============================+======================+======================|\n",
            "|   0  Tesla T4            Off  | 00000000:00:04.0 Off |                    0 |\n",
            "| N/A   55C    P8    11W /  70W |      0MiB / 15109MiB |      0%      Default |\n",
            "|                               |                      |                  N/A |\n",
            "+-------------------------------+----------------------+----------------------+\n",
            "                                                                               \n",
            "+-----------------------------------------------------------------------------+\n",
            "| Processes:                                                                  |\n",
            "|  GPU   GI   CI        PID   Type   Process name                  GPU Memory |\n",
            "|        ID   ID                                                   Usage      |\n",
            "|=============================================================================|\n",
            "|  No running processes found                                                 |\n",
            "+-----------------------------------------------------------------------------+\n"
          ]
        }
      ]
    },
    {
      "cell_type": "markdown",
      "source": [
        "#Exploratory Analysis of the data frame located from Github version of iris.csv\n"
      ],
      "metadata": {
        "id": "pk9FG6uk2s6N"
      }
    },
    {
      "cell_type": "code",
      "source": [
        "df2['Class'].value_counts()"
      ],
      "metadata": {
        "colab": {
          "base_uri": "https://localhost:8080/",
          "height": 0
        },
        "id": "-H26-vdk2yhK",
        "outputId": "c4bfbf27-ad22-4178-8527-95a38ba3399a"
      },
      "execution_count": 19,
      "outputs": [
        {
          "output_type": "execute_result",
          "data": {
            "text/plain": [
              "Iris-setosa        50\n",
              "Iris-versicolor    50\n",
              "Iris-virginica     50\n",
              "Name: Class, dtype: int64"
            ]
          },
          "metadata": {},
          "execution_count": 19
        }
      ]
    },
    {
      "cell_type": "code",
      "source": [
        "df2.boxplot(\"Sepal.Length\",'Class')"
      ],
      "metadata": {
        "colab": {
          "base_uri": "https://localhost:8080/",
          "height": 318
        },
        "id": "0a3kcIow23rp",
        "outputId": "529e3a4f-1854-41ce-b284-409069e17cf4"
      },
      "execution_count": 20,
      "outputs": [
        {
          "output_type": "execute_result",
          "data": {
            "text/plain": [
              "<matplotlib.axes._subplots.AxesSubplot at 0x7f73f4f8f510>"
            ]
          },
          "metadata": {},
          "execution_count": 20
        },
        {
          "output_type": "display_data",
          "data": {
            "text/plain": [
              "<Figure size 432x288 with 1 Axes>"
            ],
            "image/png": "[encoded data removed]"
          },
          "metadata": {
            "needs_background": "light"
          }
        }
      ]
    },
    {
      "cell_type": "code",
      "source": [
        "df2.boxplot(\"Petal.Length\",'Class')"
      ],
      "metadata": {
        "colab": {
          "base_uri": "https://localhost:8080/",
          "height": 318
        },
        "id": "nNZJC7Ei3ra4",
        "outputId": "e8c83dc4-b1f7-4a85-b227-d8c49b16810b"
      },
      "execution_count": 21,
      "outputs": [
        {
          "output_type": "execute_result",
          "data": {
            "text/plain": [
              "<matplotlib.axes._subplots.AxesSubplot at 0x7f73f4e481d0>"
            ]
          },
          "metadata": {},
          "execution_count": 21
        },
        {
          "output_type": "display_data",
          "data": {
            "text/plain": [
              "<Figure size 432x288 with 1 Axes>"
            ],
            "image/png": "[encoded data removed]"
          },
          "metadata": {
            "needs_background": "light"
          }
        }
      ]
    },
    {
      "cell_type": "markdown",
      "source": [
        "#Exploratory analysis of google sheet data corresponding to PGSS CS Lab class of 2022"
      ],
      "metadata": {
        "id": "b8OuYHd85UJx"
      }
    },
    {
      "cell_type": "code",
      "source": [
        ""
      ],
      "metadata": {
        "id": "yVF8qEj05VKm"
      },
      "execution_count": null,
      "outputs": []
    },
    {
      "cell_type": "code",
      "source": [
        "from google.colab import auth\n",
        "auth.authenticate_user()\n",
        "\n",
        "import gspread\n",
        "from google.auth import default\n",
        "creds, _ = default()\n",
        "\n",
        "gc = gspread.authorize(creds)\n",
        "\n",
        "worksheet = gc.open('PGSS 2022 CS Lab Class ').sheet1\n",
        "\n",
        "# get_all_values gives a list of rows.\n",
        "rows = worksheet.get_all_values()\n",
        "print(rows)\n",
        "\n",
        "# Convert to a DataFrame and render.\n",
        "import pandas as pd\n",
        "myClassData = pd.DataFrame.from_records(rows)\n",
        "\n",
        "myClassData = myClassData.iloc[1:,:]\n",
        "\n",
        "myClassData.columns = ['First Name',\t'Last Name', \t'Andrew ID'\t, 'Github', \t'Role'\t, 'Non-Andrew Email']\n",
        "myClassData\n",
        "import numpy as np\n",
        "myClassData['Non-Andrew Email'][myClassData['Non-Andrew Email']==\"\"] = np.nan\n",
        "myClassData['Non-Andrew Email'].isna().value_counts()\n"
      ],
      "metadata": {
        "colab": {
          "base_uri": "https://localhost:8080/",
          "height": 0
        },
        "id": "cRjTDRTd7TxD",
        "outputId": "bc69233c-244d-4dc9-db4c-d2ae3af4a723"
      },
      "execution_count": 31,
      "outputs": [
        {
          "output_type": "stream",
          "name": "stdout",
          "text": [
            "[['First Name', 'Last Name', 'Andrew ID', 'Github', 'Role', 'Non-Andrew Email'], ['Prahlad', 'Menon', 'pgmenon', 'menonpg', 'Professor', ''], ['Aidan', 'Green', 'aidang', 'aidang56', 'Student', 'aidang626@gmail.com'], ['Nikola', 'Cao', 'nikolac', 'nikolacao', 'Student', 'cao.nikola.a@gmail.com'], ['Bea', 'Ricafort', 'bricafor', 'bricafor', 'Student', 'moiraangiebee@gmail.com'], ['Daniel', 'Zhang', 'danielz2', 'DanZfsd', 'Student', 'z331317@gmail.com'], ['Siming', 'Tang', 'simingt', 'Jelliphishi', 'Student', ''], ['Jai', 'Rastogi', 'jrastogi', 'jrastogi1349342', 'Student', ''], ['Sam', 'Wang', 'samuelw2', 'samuelwang23', 'Student', ''], ['Edison', 'DeWilde', 'edewilde', 'edewilde12', 'Student', ''], ['Hannah', 'Gong', 'hannahgo', 'hgna', 'Student', ''], ['Mason', 'Matich', 'mmatich', 'AWESDUDEtheCOOL', 'Student', ''], ['Diya', 'Hundiwala', 'dhundiwa', 'diyahundiwala', 'Student', 'diyahundiwala@gmail.com'], ['Eric', 'Cui', 'ecui', 'restlesstable29', 'Student', ''], ['Kurtis', 'Zhang', 'kurtisz', 'KurtisZ18', 'Student', ''], ['Parimala', 'Rajesh', 'prajesh', 'prajesh3', 'Student', ''], ['Alena', 'Hemminger', 'ahemming', 'AlenaHemminger', 'Student', 'alenahemmi10@gmail.com'], ['Kovid', 'Tandon', 'ktandon', 'Kdawg23', 'Student', '23tandonk@gmail.com'], ['Daniel', 'Wang', 'dw4', 'DanielWang2305', 'Student', ''], ['Malina', 'Reber', 'mreber', 'mreber23', 'Student', ''], ['Joe', 'McLaughlin', 'jmmclaug', 'jmmclaug201', 'TA', ''], ['Michael', 'Rybalkin', 'mrybalki', 'mrybalki', 'TA', ''], ['Shiyang', 'Tian', 'shiyangt', 'syttt001', 'TA', '']]\n"
          ]
        },
        {
          "output_type": "execute_result",
          "data": {
            "text/plain": [
              "True     15\n",
              "False     7\n",
              "Name: Non-Andrew Email, dtype: int64"
            ]
          },
          "metadata": {},
          "execution_count": 31
        }
      ]
    },
    {
      "cell_type": "code",
      "source": [
        "myClassData"
      ],
      "metadata": {
        "colab": {
          "base_uri": "https://localhost:8080/",
          "height": 739
        },
        "id": "52WK6M9w7b5j",
        "outputId": "a262115f-fdb0-4844-b84e-e6be35409cf8"
      },
      "execution_count": 32,
      "outputs": [
        {
          "output_type": "execute_result",
          "data": {
            "text/plain": [
              "   First Name   Last Name Andrew ID           Github       Role  \\\n",
              "1     Prahlad       Menon   pgmenon          menonpg  Professor   \n",
              "2       Aidan       Green    aidang         aidang56    Student   \n",
              "3      Nikola         Cao   nikolac        nikolacao    Student   \n",
              "4         Bea    Ricafort  bricafor         bricafor    Student   \n",
              "5      Daniel       Zhang  danielz2          DanZfsd    Student   \n",
              "6      Siming        Tang   simingt      Jelliphishi    Student   \n",
              "7         Jai     Rastogi  jrastogi  jrastogi1349342    Student   \n",
              "8         Sam        Wang  samuelw2     samuelwang23    Student   \n",
              "9      Edison     DeWilde  edewilde       edewilde12    Student   \n",
              "10     Hannah        Gong  hannahgo             hgna    Student   \n",
              "11      Mason      Matich   mmatich  AWESDUDEtheCOOL    Student   \n",
              "12       Diya   Hundiwala  dhundiwa    diyahundiwala    Student   \n",
              "13       Eric         Cui      ecui  restlesstable29    Student   \n",
              "14     Kurtis       Zhang   kurtisz        KurtisZ18    Student   \n",
              "15   Parimala      Rajesh   prajesh         prajesh3    Student   \n",
              "16      Alena   Hemminger  ahemming   AlenaHemminger    Student   \n",
              "17      Kovid      Tandon   ktandon          Kdawg23    Student   \n",
              "18     Daniel        Wang       dw4   DanielWang2305    Student   \n",
              "19     Malina       Reber    mreber         mreber23    Student   \n",
              "20        Joe  McLaughlin  jmmclaug      jmmclaug201         TA   \n",
              "21    Michael    Rybalkin  mrybalki         mrybalki         TA   \n",
              "22    Shiyang        Tian  shiyangt         syttt001         TA   \n",
              "\n",
              "           Non-Andrew Email  \n",
              "1                       NaN  \n",
              "2       aidang626@gmail.com  \n",
              "3    cao.nikola.a@gmail.com  \n",
              "4   moiraangiebee@gmail.com  \n",
              "5         z331317@gmail.com  \n",
              "6                       NaN  \n",
              "7                       NaN  \n",
              "8                       NaN  \n",
              "9                       NaN  \n",
              "10                      NaN  \n",
              "11                      NaN  \n",
              "12  diyahundiwala@gmail.com  \n",
              "13                      NaN  \n",
              "14                      NaN  \n",
              "15                      NaN  \n",
              "16   alenahemmi10@gmail.com  \n",
              "17      23tandonk@gmail.com  \n",
              "18                      NaN  \n",
              "19                      NaN  \n",
              "20                      NaN  \n",
              "21                      NaN  \n",
              "22                      NaN  "
            ],
            "text/html": [
              "\n",
              "  <div id=\"df-fb8cfbb8-1d37-436d-af32-d5d85014f1e2\">\n",
              "    <div class=\"colab-df-container\">\n",
              "      <div>\n",
              "<style scoped>\n",
              "    .dataframe tbody tr th:only-of-type {\n",
              "        vertical-align: middle;\n",
              "    }\n",
              "\n",
              "    .dataframe tbody tr th {\n",
              "        vertical-align: top;\n",
              "    }\n",
              "\n",
              "    .dataframe thead th {\n",
              "        text-align: right;\n",
              "    }\n",
              "</style>\n",
              "<table border=\"1\" class=\"dataframe\">\n",
              "  <thead>\n",
              "    <tr style=\"text-align: right;\">\n",
              "      <th></th>\n",
              "      <th>First Name</th>\n",
              "      <th>Last Name</th>\n",
              "      <th>Andrew ID</th>\n",
              "      <th>Github</th>\n",
              "      <th>Role</th>\n",
              "      <th>Non-Andrew Email</th>\n",
              "    </tr>\n",
              "  </thead>\n",
              "  <tbody>\n",
              "    <tr>\n",
              "      <th>1</th>\n",
              "      <td>Prahlad</td>\n",
              "      <td>Menon</td>\n",
              "      <td>pgmenon</td>\n",
              "      <td>menonpg</td>\n",
              "      <td>Professor</td>\n",
              "      <td>NaN</td>\n",
              "    </tr>\n",
              "    <tr>\n",
              "      <th>2</th>\n",
              "      <td>Aidan</td>\n",
              "      <td>Green</td>\n",
              "      <td>aidang</td>\n",
              "      <td>aidang56</td>\n",
              "      <td>Student</td>\n",
              "      <td>aidang626@gmail.com</td>\n",
              "    </tr>\n",
              "    <tr>\n",
              "      <th>3</th>\n",
              "      <td>Nikola</td>\n",
              "      <td>Cao</td>\n",
              "      <td>nikolac</td>\n",
              "      <td>nikolacao</td>\n",
              "      <td>Student</td>\n",
              "      <td>cao.nikola.a@gmail.com</td>\n",
              "    </tr>\n",
              "    <tr>\n",
              "      <th>4</th>\n",
              "      <td>Bea</td>\n",
              "      <td>Ricafort</td>\n",
              "      <td>bricafor</td>\n",
              "      <td>bricafor</td>\n",
              "      <td>Student</td>\n",
              "      <td>moiraangiebee@gmail.com</td>\n",
              "    </tr>\n",
              "    <tr>\n",
              "      <th>5</th>\n",
              "      <td>Daniel</td>\n",
              "      <td>Zhang</td>\n",
              "      <td>danielz2</td>\n",
              "      <td>DanZfsd</td>\n",
              "      <td>Student</td>\n",
              "      <td>z331317@gmail.com</td>\n",
              "    </tr>\n",
              "    <tr>\n",
              "      <th>6</th>\n",
              "      <td>Siming</td>\n",
              "      <td>Tang</td>\n",
              "      <td>simingt</td>\n",
              "      <td>Jelliphishi</td>\n",
              "      <td>Student</td>\n",
              "      <td>NaN</td>\n",
              "    </tr>\n",
              "    <tr>\n",
              "      <th>7</th>\n",
              "      <td>Jai</td>\n",
              "      <td>Rastogi</td>\n",
              "      <td>jrastogi</td>\n",
              "      <td>jrastogi1349342</td>\n",
              "      <td>Student</td>\n",
              "      <td>NaN</td>\n",
              "    </tr>\n",
              "    <tr>\n",
              "      <th>8</th>\n",
              "      <td>Sam</td>\n",
              "      <td>Wang</td>\n",
              "      <td>samuelw2</td>\n",
              "      <td>samuelwang23</td>\n",
              "      <td>Student</td>\n",
              "      <td>NaN</td>\n",
              "    </tr>\n",
              "    <tr>\n",
              "      <th>9</th>\n",
              "      <td>Edison</td>\n",
              "      <td>DeWilde</td>\n",
              "      <td>edewilde</td>\n",
              "      <td>edewilde12</td>\n",
              "      <td>Student</td>\n",
              "      <td>NaN</td>\n",
              "    </tr>\n",
              "    <tr>\n",
              "      <th>10</th>\n",
              "      <td>Hannah</td>\n",
              "      <td>Gong</td>\n",
              "      <td>hannahgo</td>\n",
              "      <td>hgna</td>\n",
              "      <td>Student</td>\n",
              "      <td>NaN</td>\n",
              "    </tr>\n",
              "    <tr>\n",
              "      <th>11</th>\n",
              "      <td>Mason</td>\n",
              "      <td>Matich</td>\n",
              "      <td>mmatich</td>\n",
              "      <td>AWESDUDEtheCOOL</td>\n",
              "      <td>Student</td>\n",
              "      <td>NaN</td>\n",
              "    </tr>\n",
              "    <tr>\n",
              "      <th>12</th>\n",
              "      <td>Diya</td>\n",
              "      <td>Hundiwala</td>\n",
              "      <td>dhundiwa</td>\n",
              "      <td>diyahundiwala</td>\n",
              "      <td>Student</td>\n",
              "      <td>diyahundiwala@gmail.com</td>\n",
              "    </tr>\n",
              "    <tr>\n",
              "      <th>13</th>\n",
              "      <td>Eric</td>\n",
              "      <td>Cui</td>\n",
              "      <td>ecui</td>\n",
              "      <td>restlesstable29</td>\n",
              "      <td>Student</td>\n",
              "      <td>NaN</td>\n",
              "    </tr>\n",
              "    <tr>\n",
              "      <th>14</th>\n",
              "      <td>Kurtis</td>\n",
              "      <td>Zhang</td>\n",
              "      <td>kurtisz</td>\n",
              "      <td>KurtisZ18</td>\n",
              "      <td>Student</td>\n",
              "      <td>NaN</td>\n",
              "    </tr>\n",
              "    <tr>\n",
              "      <th>15</th>\n",
              "      <td>Parimala</td>\n",
              "      <td>Rajesh</td>\n",
              "      <td>prajesh</td>\n",
              "      <td>prajesh3</td>\n",
              "      <td>Student</td>\n",
              "      <td>NaN</td>\n",
              "    </tr>\n",
              "    <tr>\n",
              "      <th>16</th>\n",
              "      <td>Alena</td>\n",
              "      <td>Hemminger</td>\n",
              "      <td>ahemming</td>\n",
              "      <td>AlenaHemminger</td>\n",
              "      <td>Student</td>\n",
              "      <td>alenahemmi10@gmail.com</td>\n",
              "    </tr>\n",
              "    <tr>\n",
              "      <th>17</th>\n",
              "      <td>Kovid</td>\n",
              "      <td>Tandon</td>\n",
              "      <td>ktandon</td>\n",
              "      <td>Kdawg23</td>\n",
              "      <td>Student</td>\n",
              "      <td>23tandonk@gmail.com</td>\n",
              "    </tr>\n",
              "    <tr>\n",
              "      <th>18</th>\n",
              "      <td>Daniel</td>\n",
              "      <td>Wang</td>\n",
              "      <td>dw4</td>\n",
              "      <td>DanielWang2305</td>\n",
              "      <td>Student</td>\n",
              "      <td>NaN</td>\n",
              "    </tr>\n",
              "    <tr>\n",
              "      <th>19</th>\n",
              "      <td>Malina</td>\n",
              "      <td>Reber</td>\n",
              "      <td>mreber</td>\n",
              "      <td>mreber23</td>\n",
              "      <td>Student</td>\n",
              "      <td>NaN</td>\n",
              "    </tr>\n",
              "    <tr>\n",
              "      <th>20</th>\n",
              "      <td>Joe</td>\n",
              "      <td>McLaughlin</td>\n",
              "      <td>jmmclaug</td>\n",
              "      <td>jmmclaug201</td>\n",
              "      <td>TA</td>\n",
              "      <td>NaN</td>\n",
              "    </tr>\n",
              "    <tr>\n",
              "      <th>21</th>\n",
              "      <td>Michael</td>\n",
              "      <td>Rybalkin</td>\n",
              "      <td>mrybalki</td>\n",
              "      <td>mrybalki</td>\n",
              "      <td>TA</td>\n",
              "      <td>NaN</td>\n",
              "    </tr>\n",
              "    <tr>\n",
              "      <th>22</th>\n",
              "      <td>Shiyang</td>\n",
              "      <td>Tian</td>\n",
              "      <td>shiyangt</td>\n",
              "      <td>syttt001</td>\n",
              "      <td>TA</td>\n",
              "      <td>NaN</td>\n",
              "    </tr>\n",
              "  </tbody>\n",
              "</table>\n",
              "</div>\n",
              "      <button class=\"colab-df-convert\" onclick=\"convertToInteractive('df-fb8cfbb8-1d37-436d-af32-d5d85014f1e2')\"\n",
              "              title=\"Convert this dataframe to an interactive table.\"\n",
              "              style=\"display:none;\">\n",
              "        \n",
              "  <svg xmlns=\"http://www.w3.org/2000/svg\" height=\"24px\"viewBox=\"0 0 24 24\"\n",
              "       width=\"24px\">\n",
              "    <path d=\"M0 0h24v24H0V0z\" fill=\"none\"/>\n",
              "    <path d=\"M18.56 5.44l.94 2.06.94-2.06 2.06-.94-2.06-.94-.94-2.06-.94 2.06-2.06.94zm-11 1L8.5 8.5l.94-2.06 2.06-.94-2.06-.94L8.5 2.5l-.94 2.06-2.06.94zm10 10l.94 2.06.94-2.06 2.06-.94-2.06-.94-.94-2.06-.94 2.06-2.06.94z\"/><path d=\"M17.41 7.96l-1.37-1.37c-.4-.4-.92-.59-1.43-.59-.52 0-1.04.2-1.43.59L10.3 9.45l-7.72 7.72c-.78.78-.78 2.05 0 2.83L4 21.41c.39.39.9.59 1.41.59.51 0 1.02-.2 1.41-.59l7.78-7.78 2.81-2.81c.8-.78.8-2.07 0-2.86zM5.41 20L4 18.59l7.72-7.72 1.47 1.35L5.41 20z\"/>\n",
              "  </svg>\n",
              "      </button>\n",
              "      \n",
              "  <style>\n",
              "    .colab-df-container {\n",
              "      display:flex;\n",
              "      flex-wrap:wrap;\n",
              "      gap: 12px;\n",
              "    }\n",
              "\n",
              "    .colab-df-convert {\n",
              "      background-color: #E8F0FE;\n",
              "      border: none;\n",
              "      border-radius: 50%;\n",
              "      cursor: pointer;\n",
              "      display: none;\n",
              "      fill: #1967D2;\n",
              "      height: 32px;\n",
              "      padding: 0 0 0 0;\n",
              "      width: 32px;\n",
              "    }\n",
              "\n",
              "    .colab-df-convert:hover {\n",
              "      background-color: #E2EBFA;\n",
              "      box-shadow: 0px 1px 2px rgba(60, 64, 67, 0.3), 0px 1px 3px 1px rgba(60, 64, 67, 0.15);\n",
              "      fill: #174EA6;\n",
              "    }\n",
              "\n",
              "    [theme=dark] .colab-df-convert {\n",
              "      background-color: #3B4455;\n",
              "      fill: #D2E3FC;\n",
              "    }\n",
              "\n",
              "    [theme=dark] .colab-df-convert:hover {\n",
              "      background-color: #434B5C;\n",
              "      box-shadow: 0px 1px 3px 1px rgba(0, 0, 0, 0.15);\n",
              "      filter: drop-shadow(0px 1px 2px rgba(0, 0, 0, 0.3));\n",
              "      fill: #FFFFFF;\n",
              "    }\n",
              "  </style>\n",
              "\n",
              "      <script>\n",
              "        const buttonEl =\n",
              "          document.querySelector('#df-fb8cfbb8-1d37-436d-af32-d5d85014f1e2 button.colab-df-convert');\n",
              "        buttonEl.style.display =\n",
              "          google.colab.kernel.accessAllowed ? 'block' : 'none';\n",
              "\n",
              "        async function convertToInteractive(key) {\n",
              "          const element = document.querySelector('#df-fb8cfbb8-1d37-436d-af32-d5d85014f1e2');\n",
              "          const dataTable =\n",
              "            await google.colab.kernel.invokeFunction('convertToInteractive',\n",
              "                                                     [key], {});\n",
              "          if (!dataTable) return;\n",
              "\n",
              "          const docLinkHtml = 'Like what you see? Visit the ' +\n",
              "            '<a target=\"_blank\" href=https://colab.research.google.com/notebooks/data_table.ipynb>data table notebook</a>'\n",
              "            + ' to learn more about interactive tables.';\n",
              "          element.innerHTML = '';\n",
              "          dataTable['output_type'] = 'display_data';\n",
              "          await google.colab.output.renderOutput(dataTable, element);\n",
              "          const docLink = document.createElement('div');\n",
              "          docLink.innerHTML = docLinkHtml;\n",
              "          element.appendChild(docLink);\n",
              "        }\n",
              "      </script>\n",
              "    </div>\n",
              "  </div>\n",
              "  "
            ]
          },
          "metadata": {},
          "execution_count": 32
        }
      ]
    },
    {
      "cell_type": "code",
      "source": [
        ""
      ],
      "metadata": {
        "id": "uU7yOdii7yvS"
      },
      "execution_count": null,
      "outputs": []
    }
  ]
}